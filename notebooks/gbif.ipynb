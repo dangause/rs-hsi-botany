{
 "cells": [
  {
   "cell_type": "code",
   "execution_count": null,
   "metadata": {},
   "outputs": [],
   "source": []
  },
  {
   "cell_type": "code",
   "execution_count": 3,
   "metadata": {},
   "outputs": [],
   "source": [
    "from pygbif import occurrences\n",
    "import geopandas as gpd\n",
    "import pandas as pd\n",
    "\n",
    "\n",
    "# Read back in (GeoPackage)\n",
    "ferp_boundary = gpd.read_file(\"../data/ferp/ferp_boundary.gpkg\", layer=\"ferp\")\n",
    "\n",
    "\n",
    "# Your list of tree species scientific names\n",
    "tree_species = [\n",
    "    \"Sequoia sempervirens\", \"Quercus agrifolia\", \"Pseudotsuga menziesii\",\n",
    "    \"Notholithocarpus densiflorus\", \"Arbutus menziesii\", \"Toxicodendron diversilobum\",\n",
    "    \"Corylus cornuta\", \"Quercus parvula\"\n",
    "]\n",
    "\n",
    "# Bounding box from your FERP boundary (use degrees)\n",
    "ferp_bounds = ferp_boundary.to_crs(\"EPSG:4326\").total_bounds\n",
    "lon_min, lat_min, lon_max, lat_max = ferp_bounds  # (west, south, east, north)\n"
   ]
  },
  {
   "cell_type": "code",
   "execution_count": 5,
   "metadata": {},
   "outputs": [
    {
     "name": "stdout",
     "output_type": "stream",
     "text": [
      "Querying GBIF for Sequoia sempervirens...\n",
      "Querying GBIF for Quercus agrifolia...\n",
      "Querying GBIF for Pseudotsuga menziesii...\n",
      "Querying GBIF for Notholithocarpus densiflorus...\n",
      "Querying GBIF for Arbutus menziesii...\n",
      "Querying GBIF for Toxicodendron diversilobum...\n",
      "Querying GBIF for Corylus cornuta...\n",
      "Querying GBIF for Quercus parvula...\n",
      "Total GBIF records pulled: 0\n"
     ]
    }
   ],
   "source": [
    "from time import sleep\n",
    "\n",
    "def get_gbif_occurrences(species, bbox, max_records=300):\n",
    "    \"\"\"\n",
    "    Query GBIF for a given species and bounding box.\n",
    "    \"\"\"\n",
    "    try:\n",
    "        res = occurrences.search(\n",
    "            scientificName=species,\n",
    "            hasCoordinate=True,\n",
    "            limit=max_records,\n",
    "            decimalLatitude=f\"{bbox[1]},{bbox[3]}\",\n",
    "            decimalLongitude=f\"{bbox[0]},{bbox[2]}\"\n",
    "        )\n",
    "        return pd.json_normalize(res['results'])\n",
    "    except Exception as e:\n",
    "        print(f\"Failed for {species}: {e}\")\n",
    "        return pd.DataFrame()\n",
    "\n",
    "# Pull occurrences for each tree species\n",
    "gbif_records = []\n",
    "\n",
    "for name in tree_species:\n",
    "    print(f\"Querying GBIF for {name}...\")\n",
    "    df = get_gbif_occurrences(name, ferp_bounds, max_records=500)\n",
    "    df[\"species\"] = name\n",
    "    gbif_records.append(df)\n",
    "    sleep(1)  # be kind to the API\n",
    "\n",
    "gbif_df = pd.concat(gbif_records, ignore_index=True)\n",
    "print(\"Total GBIF records pulled:\", len(gbif_df))\n"
   ]
  },
  {
   "cell_type": "code",
   "execution_count": null,
   "metadata": {},
   "outputs": [],
   "source": []
  },
  {
   "cell_type": "code",
   "execution_count": null,
   "metadata": {},
   "outputs": [],
   "source": [
    "gbif_gdf = gpd.GeoDataFrame(\n",
    "    gbif_df,\n",
    "    geometry=gpd.points_from_xy(gbif_df[\"decimalLongitude\"], gbif_df[\"decimalLatitude\"]),\n",
    "    crs=\"EPSG:4326\"\n",
    ").to_crs(grid.crs)  # Match EnMAP projection\n"
   ]
  }
 ],
 "metadata": {
  "kernelspec": {
   "display_name": ".venv",
   "language": "python",
   "name": "python3"
  },
  "language_info": {
   "codemirror_mode": {
    "name": "ipython",
    "version": 3
   },
   "file_extension": ".py",
   "mimetype": "text/x-python",
   "name": "python",
   "nbconvert_exporter": "python",
   "pygments_lexer": "ipython3",
   "version": "3.12.10"
  }
 },
 "nbformat": 4,
 "nbformat_minor": 2
}
